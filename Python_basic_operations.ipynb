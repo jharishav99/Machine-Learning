{
 "cells": [
  {
   "cell_type": "code",
   "execution_count": 1,
   "id": "13329f62-8e92-48ac-a967-9653ee0eea86",
   "metadata": {},
   "outputs": [
    {
     "name": "stdout",
     "output_type": "stream",
     "text": [
      "Hello\n"
     ]
    }
   ],
   "source": [
    "print(\"Hello\")\n",
    "\n"
   ]
  },
  {
   "cell_type": "markdown",
   "id": "bdb1d9a0",
   "metadata": {},
   "source": [
    "# Let's learn Python\n",
    "\n"
   ]
  },
  {
   "cell_type": "code",
   "execution_count": null,
   "id": "610e2f2e",
   "metadata": {},
   "outputs": [],
   "source": [
    "a=5\n"
   ]
  },
  {
   "cell_type": "code",
   "execution_count": null,
   "id": "65bfdb58",
   "metadata": {},
   "outputs": [],
   "source": [
    "print(a)"
   ]
  },
  {
   "cell_type": "code",
   "execution_count": null,
   "id": "d35ce36c",
   "metadata": {},
   "outputs": [],
   "source": [
    "help(print)"
   ]
  },
  {
   "cell_type": "code",
   "execution_count": null,
   "id": "46d8187d",
   "metadata": {},
   "outputs": [],
   "source": [
    "#singleline commment  \n",
    "'''\n",
    "Multli line comment\n",
    "'''"
   ]
  },
  {
   "cell_type": "markdown",
   "id": "76526665",
   "metadata": {},
   "source": [
    "# Variables and Data types\n"
   ]
  },
  {
   "cell_type": "code",
   "execution_count": 7,
   "id": "22a04b6d",
   "metadata": {},
   "outputs": [],
   "source": [
    "#How do you calculate factorial of 100 ?\n"
   ]
  },
  {
   "cell_type": "code",
   "execution_count": 11,
   "id": "ec1734ba",
   "metadata": {},
   "outputs": [
    {
     "name": "stdout",
     "output_type": "stream",
     "text": [
      "120\n"
     ]
    }
   ],
   "source": [
    "import math\n",
    "print(math.factorial(5))"
   ]
  },
  {
   "cell_type": "code",
   "execution_count": 15,
   "id": "ec75dff7",
   "metadata": {},
   "outputs": [
    {
     "name": "stdout",
     "output_type": "stream",
     "text": [
      "20\n",
      "<class 'int'>\n",
      "140713647904136\n"
     ]
    }
   ],
   "source": [
    "first = 20\n",
    "print(first)\n",
    "print(type(first))\n",
    "print(id(first))"
   ]
  },
  {
   "cell_type": "code",
   "execution_count": 16,
   "id": "0f363a9e",
   "metadata": {},
   "outputs": [
    {
     "name": "stdout",
     "output_type": "stream",
     "text": [
      "20\n",
      "<class 'int'>\n",
      "140713647904136\n"
     ]
    }
   ],
   "source": [
    "second=first\n",
    "print(second)\n",
    "print(type(second))\n",
    "print(id(second))"
   ]
  },
  {
   "cell_type": "code",
   "execution_count": 17,
   "id": "b580be95",
   "metadata": {},
   "outputs": [
    {
     "name": "stdout",
     "output_type": "stream",
     "text": [
      "<class 'float'>\n"
     ]
    }
   ],
   "source": [
    "a = 2.3\n",
    "print(type(a))"
   ]
  },
  {
   "cell_type": "code",
   "execution_count": 22,
   "id": "9c6d64f9",
   "metadata": {},
   "outputs": [
    {
     "name": "stdout",
     "output_type": "stream",
     "text": [
      "<class 'str'>\n"
     ]
    }
   ],
   "source": [
    "c = 'd'\n",
    "print(type(c))"
   ]
  },
  {
   "cell_type": "code",
   "execution_count": 24,
   "id": "df6301ed",
   "metadata": {},
   "outputs": [
    {
     "name": "stdout",
     "output_type": "stream",
     "text": [
      "Rishav\n",
      "Rishav\n",
      "Rishav\n"
     ]
    }
   ],
   "source": [
    "hi = 'Rishav'\n",
    "hii = \"Rishav\"\n",
    "h='''Rishav'''\n",
    "print(hi)\n",
    "print(hii)\n",
    "print(h)"
   ]
  },
  {
   "cell_type": "code",
   "execution_count": 164,
   "id": "4dfcedcf",
   "metadata": {},
   "outputs": [
    {
     "name": "stdout",
     "output_type": "stream",
     "text": [
      "(3+4j)\n",
      "<class 'complex'>\n"
     ]
    }
   ],
   "source": [
    "a = 3+4j\n",
    "print(a)\n",
    "print(type(a))"
   ]
  },
  {
   "cell_type": "markdown",
   "id": "81b8aa7a",
   "metadata": {},
   "source": [
    "# 1 tab-> 4 spaces;\n"
   ]
  },
  {
   "cell_type": "code",
   "execution_count": 28,
   "id": "a6b05e8c",
   "metadata": {},
   "outputs": [
    {
     "name": "stdout",
     "output_type": "stream",
     "text": [
      "Hello\n",
      "world\n"
     ]
    }
   ],
   "source": [
    "print(\"Hello\")\n",
    "if True:\n",
    "    print(\"world\")"
   ]
  },
  {
   "cell_type": "code",
   "execution_count": 29,
   "id": "438b8c3b",
   "metadata": {},
   "outputs": [
    {
     "ename": "IndentationError",
     "evalue": "unexpected indent (122304739.py, line 2)",
     "output_type": "error",
     "traceback": [
      "\u001b[1;36m  Cell \u001b[1;32mIn[29], line 2\u001b[1;36m\u001b[0m\n\u001b[1;33m    print(\"World\")\u001b[0m\n\u001b[1;37m    ^\u001b[0m\n\u001b[1;31mIndentationError\u001b[0m\u001b[1;31m:\u001b[0m unexpected indent\n"
     ]
    }
   ],
   "source": [
    "print(\"Hello\")\n",
    "    print(\"World\")"
   ]
  },
  {
   "cell_type": "code",
   "execution_count": 165,
   "id": "e6152f36",
   "metadata": {},
   "outputs": [
    {
     "name": "stdout",
     "output_type": "stream",
     "text": [
      "this is a string this is a new line\n"
     ]
    }
   ],
   "source": [
    "#explicit line joining\n",
    "a = \"this is a string \\\n",
    "this is a new line\\\n",
    "\"\n",
    "print(a)"
   ]
  },
  {
   "cell_type": "code",
   "execution_count": 34,
   "id": "7cbb668b",
   "metadata": {},
   "outputs": [
    {
     "name": "stdout",
     "output_type": "stream",
     "text": [
      "hello \n",
      " World\n"
     ]
    }
   ],
   "source": [
    "#Escape Sequences\n",
    "print(\"hello \\n World\")"
   ]
  },
  {
   "cell_type": "code",
   "execution_count": null,
   "id": "3607e5c8",
   "metadata": {},
   "outputs": [],
   "source": [
    "print(\"hello \\t World\")"
   ]
  },
  {
   "cell_type": "code",
   "execution_count": null,
   "id": "edc626f0",
   "metadata": {},
   "outputs": [],
   "source": [
    "print(r\"this r is a raw string \\n\")"
   ]
  },
  {
   "cell_type": "markdown",
   "id": "88559378",
   "metadata": {},
   "source": [
    "# Input and Output in Python\n"
   ]
  },
  {
   "cell_type": "code",
   "execution_count": 170,
   "id": "3760c70d",
   "metadata": {},
   "outputs": [
    {
     "name": "stdout",
     "output_type": "stream",
     "text": [
      "['1', '2', '3', '4', '5']\n",
      "[1, 2, 3, 4, 5]\n"
     ]
    }
   ],
   "source": [
    "list_num = \"1 2 3 4 5\".split( )\n",
    "print(list_num)\n",
    "\n",
    "new_list = []\n",
    "for num in list_num:\n",
    "    new_list.append(int(num))\n",
    "print(new_list)"
   ]
  },
  {
   "cell_type": "markdown",
   "id": "568b2c65",
   "metadata": {},
   "source": [
    "# Print Function"
   ]
  },
  {
   "cell_type": "code",
   "execution_count": 171,
   "id": "4341a721",
   "metadata": {},
   "outputs": [
    {
     "name": "stdout",
     "output_type": "stream",
     "text": [
      "my name is abhishek 21 35 2.3\n"
     ]
    }
   ],
   "source": [
    "print(\"my\", \"name\", \"is\", \"abhishek\", 21,35,2.3)"
   ]
  },
  {
   "cell_type": "code",
   "execution_count": null,
   "id": "abf278d5",
   "metadata": {},
   "outputs": [],
   "source": [
    "#end argument\n",
    "#sep argument"
   ]
  },
  {
   "cell_type": "code",
   "execution_count": 172,
   "id": "d79574fc",
   "metadata": {},
   "outputs": [
    {
     "name": "stdout",
     "output_type": "stream",
     "text": [
      "hello\n",
      "world\n"
     ]
    }
   ],
   "source": [
    "print(\"hello\")\n",
    "print(\"world\")"
   ]
  },
  {
   "cell_type": "code",
   "execution_count": 173,
   "id": "d9c26ddd",
   "metadata": {},
   "outputs": [
    {
     "name": "stdout",
     "output_type": "stream",
     "text": [
      "Hello World\n"
     ]
    }
   ],
   "source": [
    "print(\"Hello\", end=' ')\n",
    "print(\"World\")"
   ]
  },
  {
   "cell_type": "code",
   "execution_count": 174,
   "id": "5e125890",
   "metadata": {},
   "outputs": [
    {
     "name": "stdout",
     "output_type": "stream",
     "text": [
      "Hello \n",
      " World\n"
     ]
    }
   ],
   "source": [
    "print(\"Hello\", end=' \\n ')\n",
    "print(\"World\")"
   ]
  },
  {
   "cell_type": "code",
   "execution_count": 175,
   "id": "7e9bc7eb",
   "metadata": {},
   "outputs": [
    {
     "name": "stdout",
     "output_type": "stream",
     "text": [
      "list--of--words\n"
     ]
    }
   ],
   "source": [
    "print(\"list\", \"of\", \"words\", sep='--')"
   ]
  },
  {
   "cell_type": "code",
   "execution_count": 176,
   "id": "154d92b4",
   "metadata": {},
   "outputs": [
    {
     "name": "stdout",
     "output_type": "stream",
     "text": [
      "list\n",
      "of\n",
      "words\n"
     ]
    }
   ],
   "source": [
    "print(\"list\", \"of\", \"words\", sep='\\n')"
   ]
  },
  {
   "cell_type": "code",
   "execution_count": 178,
   "id": "279cb5a0",
   "metadata": {},
   "outputs": [
    {
     "name": "stdout",
     "output_type": "stream",
     "text": [
      "capital of india  is delhi\n"
     ]
    }
   ],
   "source": [
    "mystring = \"capital of %s is %s\"%(\"india\",\"delhi\")\n",
    "print(mystring)"
   ]
  },
  {
   "cell_type": "code",
   "execution_count": 179,
   "id": "e76085cb",
   "metadata": {},
   "outputs": [
    {
     "name": "stdout",
     "output_type": "stream",
     "text": [
      "capital of india is delhi\n"
     ]
    }
   ],
   "source": [
    "mystring = \"capital of {} is {}\".format(\"india\",\"delhi\")\n",
    "print(mystring)"
   ]
  },
  {
   "cell_type": "markdown",
   "id": "9ce4864a",
   "metadata": {},
   "source": [
    "# Operators and Expression\n",
    "\n"
   ]
  },
  {
   "cell_type": "code",
   "execution_count": 180,
   "id": "300206c6",
   "metadata": {},
   "outputs": [],
   "source": [
    "#Arithmetic Operators\n",
    "#Logical operators\n",
    "#Conditional operators\n",
    "#Bitwise Operators\n",
    "#Assignment Operators"
   ]
  },
  {
   "cell_type": "code",
   "execution_count": 181,
   "id": "59ad3669",
   "metadata": {},
   "outputs": [
    {
     "data": {
      "text/plain": [
       "5"
      ]
     },
     "execution_count": 181,
     "metadata": {},
     "output_type": "execute_result"
    }
   ],
   "source": [
    "2+3"
   ]
  },
  {
   "cell_type": "code",
   "execution_count": 182,
   "id": "99f19a6c",
   "metadata": {},
   "outputs": [
    {
     "data": {
      "text/plain": [
       "-1"
      ]
     },
     "execution_count": 182,
     "metadata": {},
     "output_type": "execute_result"
    }
   ],
   "source": [
    "2-3"
   ]
  },
  {
   "cell_type": "code",
   "execution_count": 183,
   "id": "c036780e",
   "metadata": {},
   "outputs": [
    {
     "data": {
      "text/plain": [
       "6"
      ]
     },
     "execution_count": 183,
     "metadata": {},
     "output_type": "execute_result"
    }
   ],
   "source": [
    "2*3"
   ]
  },
  {
   "cell_type": "code",
   "execution_count": 184,
   "id": "c4e266a3",
   "metadata": {},
   "outputs": [
    {
     "data": {
      "text/plain": [
       "1"
      ]
     },
     "execution_count": 184,
     "metadata": {},
     "output_type": "execute_result"
    }
   ],
   "source": [
    "5%2"
   ]
  },
  {
   "cell_type": "code",
   "execution_count": 186,
   "id": "d2ee38ff",
   "metadata": {},
   "outputs": [
    {
     "data": {
      "text/plain": [
       "1.25"
      ]
     },
     "execution_count": 186,
     "metadata": {},
     "output_type": "execute_result"
    }
   ],
   "source": [
    "5/4"
   ]
  },
  {
   "cell_type": "code",
   "execution_count": 187,
   "id": "d72db747",
   "metadata": {},
   "outputs": [
    {
     "data": {
      "text/plain": [
       "1"
      ]
     },
     "execution_count": 187,
     "metadata": {},
     "output_type": "execute_result"
    }
   ],
   "source": [
    "5//4"
   ]
  },
  {
   "cell_type": "code",
   "execution_count": 190,
   "id": "5e854efb",
   "metadata": {},
   "outputs": [
    {
     "data": {
      "text/plain": [
       "25"
      ]
     },
     "execution_count": 190,
     "metadata": {},
     "output_type": "execute_result"
    }
   ],
   "source": [
    "5**2"
   ]
  },
  {
   "cell_type": "code",
   "execution_count": null,
   "id": "ca2f70d9",
   "metadata": {},
   "outputs": [],
   "source": [
    "#logical operators  --   not,and,or"
   ]
  },
  {
   "cell_type": "code",
   "execution_count": 191,
   "id": "b074404f",
   "metadata": {},
   "outputs": [
    {
     "name": "stdout",
     "output_type": "stream",
     "text": [
      "something\n"
     ]
    }
   ],
   "source": [
    "weather=\"sunny\"\n",
    "if weather==\"rainy\" or True:\n",
    "    print(\"something\")\n",
    "else:\n",
    "    print(\"something else\")"
   ]
  },
  {
   "cell_type": "code",
   "execution_count": 193,
   "id": "42207475",
   "metadata": {},
   "outputs": [
    {
     "name": "stdout",
     "output_type": "stream",
     "text": [
      "3\n"
     ]
    }
   ],
   "source": [
    "a=2\n",
    "a=a+1\n",
    "print(a)"
   ]
  },
  {
   "cell_type": "code",
   "execution_count": 194,
   "id": "8e7e15f5",
   "metadata": {},
   "outputs": [],
   "source": []
  },
  {
   "cell_type": "code",
   "execution_count": 198,
   "id": "db705be0",
   "metadata": {},
   "outputs": [
    {
     "ename": "UnsupportedOperation",
     "evalue": "read",
     "output_type": "error",
     "traceback": [
      "\u001b[1;31m---------------------------------------------------------------------------\u001b[0m",
      "\u001b[1;31mUnsupportedOperation\u001b[0m                      Traceback (most recent call last)",
      "Cell \u001b[1;32mIn[198], line 12\u001b[0m\n\u001b[0;32m     10\u001b[0m f\u001b[38;5;241m=\u001b[39m\u001b[38;5;28mopen\u001b[39m(file,\u001b[38;5;124m'\u001b[39m\u001b[38;5;124mwb\u001b[39m\u001b[38;5;124m'\u001b[39m)\n\u001b[0;32m     11\u001b[0m \u001b[38;5;66;03m#Load the obj from the file\u001b[39;00m\n\u001b[1;32m---> 12\u001b[0m obj\u001b[38;5;241m=\u001b[39mpickle\u001b[38;5;241m.\u001b[39mload(f)\n\u001b[0;32m     13\u001b[0m \u001b[38;5;28mprint\u001b[39m(obj)\n\u001b[0;32m     14\u001b[0m f\u001b[38;5;241m.\u001b[39mclose()\n",
      "\u001b[1;31mUnsupportedOperation\u001b[0m: read"
     ]
    }
   ],
   "source": [
    "import pickle\n",
    "file = 'file.data'\n",
    "obj = [1,2,3]\n",
    "\n",
    "#write to file\n",
    "f=open(file,'wb')\n",
    "#dump the object to the file\n",
    "pickle.dump(obj,f)\n",
    "f.close()\n",
    "f=open(file,'wb')\n",
    "#Load the obj from the file\n",
    "obj=pickle.load(f)\n",
    "print(obj)\n",
    "f.close()"
   ]
  },
  {
   "cell_type": "code",
   "execution_count": 200,
   "id": "76904a34",
   "metadata": {},
   "outputs": [
    {
     "name": "stdout",
     "output_type": "stream",
     "text": [
      "A\n"
     ]
    }
   ],
   "source": [
    "name = \"coding club\"\n",
    "if name == \"coding club\":\n",
    "    print(\"A\")\n",
    "elif name == \"coding\":\n",
    "    print(\"B\")\n",
    "else:\n",
    "    print(\"C\")"
   ]
  },
  {
   "cell_type": "markdown",
   "id": "7e1f8e56",
   "metadata": {},
   "source": [
    "# Loops -> for loop,while loop,for each loop"
   ]
  },
  {
   "cell_type": "code",
   "execution_count": 202,
   "id": "861ee396",
   "metadata": {},
   "outputs": [
    {
     "name": "stdout",
     "output_type": "stream",
     "text": [
      "1 2 3 4 5 6 7 8 9 10 11 12 13 14 15 16 17 18 19 20 "
     ]
    }
   ],
   "source": [
    "i=1\n",
    "while i<=20:\n",
    "    print(i,end=' ')\n",
    "    i+=1"
   ]
  },
  {
   "cell_type": "code",
   "execution_count": 203,
   "id": "b15eec0e",
   "metadata": {},
   "outputs": [],
   "source": [
    "#range function\n"
   ]
  },
  {
   "cell_type": "code",
   "execution_count": 206,
   "id": "e40daa8c",
   "metadata": {},
   "outputs": [
    {
     "name": "stdout",
     "output_type": "stream",
     "text": [
      "1 2 3 4 5 6 7 8 9 10 "
     ]
    }
   ],
   "source": [
    "a=range(1,10)\n",
    "#   for i in range(start,end+1,step or jump)\n",
    "for i in range(1,11,1):\n",
    "    print(i,end =\" \")"
   ]
  },
  {
   "cell_type": "code",
   "execution_count": null,
   "id": "688cc617",
   "metadata": {},
   "outputs": [],
   "source": [
    "#print the reverse loop"
   ]
  },
  {
   "cell_type": "code",
   "execution_count": 208,
   "id": "68fe22e1",
   "metadata": {},
   "outputs": [
    {
     "name": "stdout",
     "output_type": "stream",
     "text": [
      "10 9 8 7 6 5 4 3 2 1 "
     ]
    }
   ],
   "source": [
    "for i in range(10,0,-1):\n",
    "    print(i,end=\" \")"
   ]
  },
  {
   "cell_type": "code",
   "execution_count": 210,
   "id": "2b599dab",
   "metadata": {},
   "outputs": [
    {
     "name": "stdout",
     "output_type": "stream",
     "text": [
      "r i s h a v "
     ]
    }
   ],
   "source": [
    "name  = \"rishav\"\n",
    "for i in name:\n",
    "    print(i, end=' ')"
   ]
  },
  {
   "cell_type": "code",
   "execution_count": 211,
   "id": "c7f61475",
   "metadata": {},
   "outputs": [
    {
     "name": "stdout",
     "output_type": "stream",
     "text": [
      "r\n",
      "i\n",
      "s\n",
      "h\n",
      "a\n",
      "v\n"
     ]
    }
   ],
   "source": [
    "name  = \"rishav\"\n",
    "for i in name:\n",
    "    print(i)"
   ]
  },
  {
   "cell_type": "code",
   "execution_count": 213,
   "id": "d4e87cb5",
   "metadata": {},
   "outputs": [
    {
     "name": "stdout",
     "output_type": "stream",
     "text": [
      "r i s "
     ]
    }
   ],
   "source": [
    "name  = \"rishav\"\n",
    "for i in name:\n",
    "    if i=='h':\n",
    "        break\n",
    "    print(i, end=' ')"
   ]
  },
  {
   "cell_type": "code",
   "execution_count": 214,
   "id": "7273d2fc",
   "metadata": {},
   "outputs": [],
   "source": [
    "# python doesn;t support any empty block\n",
    "# you need to use pass\n"
   ]
  },
  {
   "cell_type": "markdown",
   "id": "e3367404",
   "metadata": {},
   "source": [
    "# Functions in Python"
   ]
  },
  {
   "cell_type": "code",
   "execution_count": 216,
   "id": "fc469f3f",
   "metadata": {},
   "outputs": [],
   "source": [
    "def say_hello():\n",
    "    print(\"hello\")\n",
    "    "
   ]
  },
  {
   "cell_type": "code",
   "execution_count": null,
   "id": "b78e7232",
   "metadata": {},
   "outputs": [],
   "source": [
    "say_hello()"
   ]
  },
  {
   "cell_type": "code",
   "execution_count": 218,
   "id": "fbe4d46f",
   "metadata": {},
   "outputs": [],
   "source": [
    "def say_hello(name=\"Rishav\"):\n",
    "    print(\"hello\",name)\n",
    "    "
   ]
  },
  {
   "cell_type": "code",
   "execution_count": null,
   "id": "2d5905fe",
   "metadata": {},
   "outputs": [],
   "source": [
    "#local and global variable"
   ]
  },
  {
   "cell_type": "code",
   "execution_count": 227,
   "id": "2ef8a3b3",
   "metadata": {},
   "outputs": [
    {
     "name": "stdout",
     "output_type": "stream",
     "text": [
      "value of x is  50\n",
      "value of x is  2\n",
      "50\n"
     ]
    }
   ],
   "source": [
    "x=50\n",
    "def func(x):\n",
    "    print('value of x is ',x)\n",
    "    x=2\n",
    "    print('value of x is ', x)\n",
    "func(x)\n",
    "print(x)"
   ]
  },
  {
   "cell_type": "markdown",
   "id": "c19bc326",
   "metadata": {},
   "source": [
    "# Keywords arguments"
   ]
  },
  {
   "cell_type": "code",
   "execution_count": 233,
   "id": "1c80591c",
   "metadata": {},
   "outputs": [],
   "source": [
    "def func(name,roll,age,group):\n",
    "    print(name,roll,age,group)\n"
   ]
  },
  {
   "cell_type": "code",
   "execution_count": 235,
   "id": "d917d971",
   "metadata": {},
   "outputs": [
    {
     "name": "stdout",
     "output_type": "stream",
     "text": [
      "Rishav 2 21 2\n",
      "2 rishav 1 21\n"
     ]
    }
   ],
   "source": [
    "func(roll=2,name=\"Rishav\",group=2,age=21)\n",
    "func(2,'rishav',1,21)"
   ]
  },
  {
   "cell_type": "markdown",
   "id": "e0cfbb71",
   "metadata": {},
   "source": [
    "# Var ags"
   ]
  },
  {
   "cell_type": "code",
   "execution_count": 243,
   "id": "7c7b477d",
   "metadata": {},
   "outputs": [],
   "source": [
    "def total(a=5, *numbers, **keyvalue):\n",
    "    print(a)\n",
    "    \n",
    "    for item in numbers:\n",
    "        print(item,end= ' ')\n",
    "    for first,second in keyvalue.items():\n",
    "        print(first,second)"
   ]
  },
  {
   "cell_type": "code",
   "execution_count": 244,
   "id": "cc6fc037",
   "metadata": {},
   "outputs": [
    {
     "name": "stdout",
     "output_type": "stream",
     "text": [
      "10\n",
      "20 30 3 4 5 6 7 8 rishav age 21\n",
      "year 20245\n"
     ]
    }
   ],
   "source": [
    "total(10,20,30,3,4,5,6,7,8,\"rishav\", age=21 , year=20245)"
   ]
  },
  {
   "cell_type": "markdown",
   "id": "2048217d",
   "metadata": {},
   "source": [
    "# List Comprehension"
   ]
  },
  {
   "cell_type": "code",
   "execution_count": 245,
   "id": "0f39db24",
   "metadata": {},
   "outputs": [
    {
     "name": "stdout",
     "output_type": "stream",
     "text": [
      "12345\n"
     ]
    }
   ],
   "source": [
    "numbers=input().split()\n",
    "list_num=[]\n",
    "for i in numbers:\n",
    "    list_num.append(int(i))\n",
    "    "
   ]
  },
  {
   "cell_type": "code",
   "execution_count": 246,
   "id": "7103f2c0",
   "metadata": {},
   "outputs": [
    {
     "data": {
      "text/plain": [
       "[12345]"
      ]
     },
     "execution_count": 246,
     "metadata": {},
     "output_type": "execute_result"
    }
   ],
   "source": [
    "list_num"
   ]
  },
  {
   "cell_type": "code",
   "execution_count": 248,
   "id": "ab50fa97",
   "metadata": {},
   "outputs": [
    {
     "name": "stdout",
     "output_type": "stream",
     "text": [
      "1 2 3 4 5\n",
      "[1, 2, 3, 4, 5]\n",
      "<class 'list'>\n"
     ]
    }
   ],
   "source": [
    "list_num = [int(every_number)for every_number in input().split()]\n",
    "print(list_num)\n",
    "print(type(list_num))\n",
    "#list comprehension"
   ]
  },
  {
   "cell_type": "markdown",
   "id": "19e08dd7",
   "metadata": {},
   "source": [
    "# Python data strings"
   ]
  },
  {
   "cell_type": "code",
   "execution_count": null,
   "id": "e7068d17",
   "metadata": {},
   "outputs": [],
   "source": [
    "#strings\n",
    "#lists\n",
    "#tuples\n",
    "#dictionaries\n",
    "#sets\n"
   ]
  },
  {
   "cell_type": "code",
   "execution_count": null,
   "id": "d3565335",
   "metadata": {},
   "outputs": [],
   "source": [
    "#strings\n",
    "a=\"rishav\"\n",
    "aa='rishav'\n",
    "aaa='''rishav'''"
   ]
  },
  {
   "cell_type": "code",
   "execution_count": null,
   "id": "1d40b4c5",
   "metadata": {},
   "outputs": [],
   "source": [
    "#strings are immutable -> we can;t change the string index  "
   ]
  },
  {
   "cell_type": "markdown",
   "id": "d6395315",
   "metadata": {},
   "source": [
    "# Operations"
   ]
  },
  {
   "cell_type": "code",
   "execution_count": 252,
   "id": "e616000f",
   "metadata": {},
   "outputs": [],
   "source": [
    "#concatenation\n",
    "#membership test\n",
    "#strings methods\n"
   ]
  },
  {
   "cell_type": "code",
   "execution_count": 253,
   "id": "cb69895c",
   "metadata": {},
   "outputs": [
    {
     "name": "stdout",
     "output_type": "stream",
     "text": [
      "hellohi\n"
     ]
    }
   ],
   "source": [
    "a=\"hello\"\n",
    "b=\"hi\"\n",
    "print(a+b)"
   ]
  },
  {
   "cell_type": "code",
   "execution_count": 254,
   "id": "47f2a496",
   "metadata": {},
   "outputs": [],
   "source": [
    "#slicing\n",
    "a = \"this is a python session at ai mafia\""
   ]
  },
  {
   "cell_type": "code",
   "execution_count": 257,
   "id": "badfda28",
   "metadata": {},
   "outputs": [
    {
     "data": {
      "text/plain": [
       "10"
      ]
     },
     "execution_count": 257,
     "metadata": {},
     "output_type": "execute_result"
    }
   ],
   "source": [
    "a.find(\"python\")"
   ]
  },
  {
   "cell_type": "code",
   "execution_count": 258,
   "id": "9b9448e9",
   "metadata": {},
   "outputs": [
    {
     "data": {
      "text/plain": [
       "25"
      ]
     },
     "execution_count": 258,
     "metadata": {},
     "output_type": "execute_result"
    }
   ],
   "source": [
    "a.find(\"at\")"
   ]
  },
  {
   "cell_type": "code",
   "execution_count": 259,
   "id": "6b85d2f8",
   "metadata": {},
   "outputs": [
    {
     "data": {
      "text/plain": [
       "'t'"
      ]
     },
     "execution_count": 259,
     "metadata": {},
     "output_type": "execute_result"
    }
   ],
   "source": [
    "a[12]"
   ]
  },
  {
   "cell_type": "code",
   "execution_count": 270,
   "id": "fc5370ef",
   "metadata": {},
   "outputs": [],
   "source": [
    "sliced = a[12:24]"
   ]
  },
  {
   "cell_type": "code",
   "execution_count": 271,
   "id": "24e30812",
   "metadata": {},
   "outputs": [
    {
     "name": "stdout",
     "output_type": "stream",
     "text": [
      "thon session\n"
     ]
    }
   ],
   "source": [
    "print(sliced)"
   ]
  },
  {
   "cell_type": "code",
   "execution_count": 272,
   "id": "39d0b2d5",
   "metadata": {},
   "outputs": [],
   "source": [
    "sliced = a[12:24:2]"
   ]
  },
  {
   "cell_type": "code",
   "execution_count": 273,
   "id": "cbd03556",
   "metadata": {},
   "outputs": [
    {
     "name": "stdout",
     "output_type": "stream",
     "text": [
      "to eso\n"
     ]
    }
   ],
   "source": [
    "print(sliced)"
   ]
  },
  {
   "cell_type": "code",
   "execution_count": 279,
   "id": "632c981f",
   "metadata": {},
   "outputs": [
    {
     "name": "stdout",
     "output_type": "stream",
     "text": [
      "gnidoc\n"
     ]
    }
   ],
   "source": [
    "abc=\"coding\"\n",
    "rev  = abc[::-1]\n",
    "print(rev)"
   ]
  },
  {
   "cell_type": "code",
   "execution_count": 280,
   "id": "1bb695ae",
   "metadata": {},
   "outputs": [],
   "source": [
    "#membership test"
   ]
  },
  {
   "cell_type": "code",
   "execution_count": 281,
   "id": "8c61a5f0",
   "metadata": {},
   "outputs": [
    {
     "name": "stdout",
     "output_type": "stream",
     "text": [
      "present\n"
     ]
    }
   ],
   "source": [
    "#membership operator\n",
    "if \"in\" in abc:\n",
    "    print(\"present\")"
   ]
  },
  {
   "cell_type": "code",
   "execution_count": 285,
   "id": "efe7b45b",
   "metadata": {},
   "outputs": [],
   "source": [
    "#string methods"
   ]
  },
  {
   "cell_type": "code",
   "execution_count": 293,
   "id": "b28808f7",
   "metadata": {},
   "outputs": [
    {
     "data": {
      "text/plain": [
       "'coding club'"
      ]
     },
     "execution_count": 293,
     "metadata": {},
     "output_type": "execute_result"
    }
   ],
   "source": [
    "a=\"coding club\"\n",
    "a.lower()"
   ]
  },
  {
   "cell_type": "code",
   "execution_count": 294,
   "id": "f789de48",
   "metadata": {},
   "outputs": [
    {
     "data": {
      "text/plain": [
       "'CODING CLUB'"
      ]
     },
     "execution_count": 294,
     "metadata": {},
     "output_type": "execute_result"
    }
   ],
   "source": [
    "a.upper()"
   ]
  },
  {
   "cell_type": "code",
   "execution_count": 295,
   "id": "501f85d3",
   "metadata": {},
   "outputs": [
    {
     "data": {
      "text/plain": [
       "'Coding Club'"
      ]
     },
     "execution_count": 295,
     "metadata": {},
     "output_type": "execute_result"
    }
   ],
   "source": [
    "a.title()"
   ]
  },
  {
   "cell_type": "code",
   "execution_count": 296,
   "id": "356d50b4",
   "metadata": {},
   "outputs": [
    {
     "data": {
      "text/plain": [
       "'Coding club'"
      ]
     },
     "execution_count": 296,
     "metadata": {},
     "output_type": "execute_result"
    }
   ],
   "source": [
    "a.capitalize()"
   ]
  },
  {
   "cell_type": "code",
   "execution_count": 297,
   "id": "8fe7942b",
   "metadata": {},
   "outputs": [
    {
     "data": {
      "text/plain": [
       "11"
      ]
     },
     "execution_count": 297,
     "metadata": {},
     "output_type": "execute_result"
    }
   ],
   "source": [
    "len(a)"
   ]
  },
  {
   "cell_type": "code",
   "execution_count": 298,
   "id": "5def4397",
   "metadata": {},
   "outputs": [
    {
     "data": {
      "text/plain": [
       "7"
      ]
     },
     "execution_count": 298,
     "metadata": {},
     "output_type": "execute_result"
    }
   ],
   "source": [
    "a.find(\"club\")"
   ]
  },
  {
   "cell_type": "code",
   "execution_count": 299,
   "id": "ea7ce260",
   "metadata": {},
   "outputs": [
    {
     "data": {
      "text/plain": [
       "7"
      ]
     },
     "execution_count": 299,
     "metadata": {},
     "output_type": "execute_result"
    }
   ],
   "source": [
    "a.index(\"club\")"
   ]
  },
  {
   "cell_type": "code",
   "execution_count": 300,
   "id": "ab5004ff",
   "metadata": {},
   "outputs": [],
   "source": [
    "#find=index , find will give me value at null but index will give me an exception"
   ]
  },
  {
   "cell_type": "code",
   "execution_count": 308,
   "id": "f880e582",
   "metadata": {},
   "outputs": [],
   "source": [
    "strn = \"coding club\"\n",
    "def check_substring(strn,sub):\n",
    "    if string.find(sub)==-1:\n",
    "        print(\"Not found\")\n",
    "    else:\n",
    "        print(\"Found\")\n",
    "        \n",
    "check_substring(\"coding club\", \"ngd\")"
   ]
  },
  {
   "cell_type": "markdown",
   "id": "81be90c8",
   "metadata": {},
   "source": [
    "# Lists (Heterogeneous array)\n",
    "\n",
    "\n",
    "It is mututable\n"
   ]
  },
  {
   "cell_type": "code",
   "execution_count": 323,
   "id": "c60ea781",
   "metadata": {},
   "outputs": [
    {
     "name": "stdout",
     "output_type": "stream",
     "text": [
      "['mango', 'banana', 'apple'] <class 'list'>\n",
      "['mango', 2, 2.5, 'values'] <class 'list'>\n"
     ]
    }
   ],
   "source": [
    "l = [\"mango\",\"banana\",\"apple\"]\n",
    "l2 = list([\"mango\",2,2.5,\"values\"])\n",
    "print(l,type(l))\n",
    "print(l2,type(l2))"
   ]
  },
  {
   "cell_type": "code",
   "execution_count": 324,
   "id": "d0ca1ca3",
   "metadata": {},
   "outputs": [
    {
     "name": "stdout",
     "output_type": "stream",
     "text": [
      "['mango', 'banana', 'guava']\n"
     ]
    }
   ],
   "source": [
    "l[2]=\"guava\" # It is mutuable\n",
    "print(l)"
   ]
  },
  {
   "cell_type": "code",
   "execution_count": 329,
   "id": "b652576e",
   "metadata": {},
   "outputs": [
    {
     "name": "stdout",
     "output_type": "stream",
     "text": [
      "[1, 2, 3, 4, 1, 2, 3, 4]\n",
      "[1, 2, 3, 4, 1, 2, 3, 4, [...]]\n"
     ]
    }
   ],
   "source": [
    "l=[1,2,3,4]\n",
    "\n",
    "l.extend(l)\n",
    "print(l)\n",
    "l.append(l)\n",
    "print(l)"
   ]
  },
  {
   "cell_type": "code",
   "execution_count": 330,
   "id": "ee7277d1",
   "metadata": {},
   "outputs": [
    {
     "data": {
      "text/plain": [
       "9"
      ]
     },
     "execution_count": 330,
     "metadata": {},
     "output_type": "execute_result"
    }
   ],
   "source": [
    "len(l)"
   ]
  },
  {
   "cell_type": "code",
   "execution_count": 333,
   "id": "deb8809c",
   "metadata": {},
   "outputs": [
    {
     "name": "stdout",
     "output_type": "stream",
     "text": [
      "[1, 2, 'apple', 3]\n"
     ]
    }
   ],
   "source": [
    "lst = [1,2,3]\n",
    "lst.insert(2,\"apple\")\n",
    "print(lst)"
   ]
  },
  {
   "cell_type": "code",
   "execution_count": 344,
   "id": "fc17f03d",
   "metadata": {},
   "outputs": [
    {
     "data": {
      "text/plain": [
       "3"
      ]
     },
     "execution_count": 344,
     "metadata": {},
     "output_type": "execute_result"
    }
   ],
   "source": [
    "lst.pop()"
   ]
  },
  {
   "cell_type": "code",
   "execution_count": 345,
   "id": "684a4d02",
   "metadata": {},
   "outputs": [
    {
     "name": "stdout",
     "output_type": "stream",
     "text": [
      "[1, 2]\n"
     ]
    }
   ],
   "source": [
    "print(lst)"
   ]
  },
  {
   "cell_type": "code",
   "execution_count": 348,
   "id": "0dd4b0f5",
   "metadata": {},
   "outputs": [
    {
     "name": "stdout",
     "output_type": "stream",
     "text": [
      "[1]\n"
     ]
    }
   ],
   "source": [
    "del lst[1]\n",
    "print(lst)"
   ]
  },
  {
   "cell_type": "code",
   "execution_count": 349,
   "id": "c6ea4cf5",
   "metadata": {},
   "outputs": [
    {
     "data": {
      "text/plain": [
       "[1, 2, 3, 1, 2, 3]"
      ]
     },
     "execution_count": 349,
     "metadata": {},
     "output_type": "execute_result"
    }
   ],
   "source": [
    "lst = [1,2,3]\n",
    "lst*2"
   ]
  },
  {
   "cell_type": "code",
   "execution_count": 351,
   "id": "88cf1d25",
   "metadata": {},
   "outputs": [
    {
     "data": {
      "text/plain": [
       "'abcabcabc'"
      ]
     },
     "execution_count": 351,
     "metadata": {},
     "output_type": "execute_result"
    }
   ],
   "source": [
    "str = \"abc\"\n",
    "str*3"
   ]
  },
  {
   "cell_type": "code",
   "execution_count": 352,
   "id": "932e689f",
   "metadata": {},
   "outputs": [],
   "source": [
    "lst.reverse()"
   ]
  },
  {
   "cell_type": "code",
   "execution_count": 353,
   "id": "71335f4f",
   "metadata": {},
   "outputs": [
    {
     "name": "stdout",
     "output_type": "stream",
     "text": [
      "[3, 2, 1]\n"
     ]
    }
   ],
   "source": [
    "print(lst)"
   ]
  },
  {
   "cell_type": "code",
   "execution_count": 354,
   "id": "d8a4470a",
   "metadata": {},
   "outputs": [
    {
     "name": "stdout",
     "output_type": "stream",
     "text": [
      "[3, 2, 1]\n"
     ]
    }
   ],
   "source": [
    "print(lst)"
   ]
  },
  {
   "cell_type": "code",
   "execution_count": 355,
   "id": "6dc0b149",
   "metadata": {},
   "outputs": [
    {
     "data": {
      "text/plain": [
       "[1, 2, 3]"
      ]
     },
     "execution_count": 355,
     "metadata": {},
     "output_type": "execute_result"
    }
   ],
   "source": [
    "lst[::-1]"
   ]
  },
  {
   "cell_type": "code",
   "execution_count": 357,
   "id": "13bf0c38",
   "metadata": {},
   "outputs": [
    {
     "name": "stdout",
     "output_type": "stream",
     "text": [
      "[1, 2, 3, 4, 5, 6, 7]\n"
     ]
    }
   ],
   "source": [
    "numbers  = [3,4,5,1,2,6,7]\n",
    "sorted_list = sorted(numbers)\n",
    "print(sorted_list)"
   ]
  },
  {
   "cell_type": "code",
   "execution_count": 359,
   "id": "a1d54e8c",
   "metadata": {},
   "outputs": [
    {
     "name": "stdout",
     "output_type": "stream",
     "text": [
      "[1, 2, 3, 4, 5]\n"
     ]
    }
   ],
   "source": [
    "arr = [2,3,1,4,5]\n",
    "arr.sort()\n",
    "print(arr)"
   ]
  },
  {
   "cell_type": "code",
   "execution_count": 360,
   "id": "34ca85a1",
   "metadata": {},
   "outputs": [
    {
     "name": "stdout",
     "output_type": "stream",
     "text": [
      "[1, 2, 3, 4, 6]\n",
      "[1, 2, 3, 4, 6]\n"
     ]
    }
   ],
   "source": [
    "lst = [1,2,3,4]\n",
    "abc= lst\n",
    "abc.append(6)\n",
    "print(lst)\n",
    "print(abc)"
   ]
  },
  {
   "cell_type": "markdown",
   "id": "67136b4f",
   "metadata": {},
   "source": [
    "# TUPLE    (immutable)"
   ]
  },
  {
   "cell_type": "code",
   "execution_count": 361,
   "id": "2269e718",
   "metadata": {},
   "outputs": [
    {
     "name": "stdout",
     "output_type": "stream",
     "text": [
      "(1, 2, 3, 'rishav', 3.14) <class 'tuple'>\n"
     ]
    }
   ],
   "source": [
    "t = (1,2,3,\"rishav\",3.14)\n",
    "print(t,type(t))"
   ]
  },
  {
   "cell_type": "code",
   "execution_count": 365,
   "id": "07f71509",
   "metadata": {},
   "outputs": [
    {
     "name": "stdout",
     "output_type": "stream",
     "text": [
      "rishav <class 'str'>\n"
     ]
    }
   ],
   "source": [
    "t = ('rishav')\n",
    "print(t,type(t))"
   ]
  },
  {
   "cell_type": "code",
   "execution_count": 366,
   "id": "bee592ab",
   "metadata": {},
   "outputs": [
    {
     "name": "stdout",
     "output_type": "stream",
     "text": [
      "('rishav',) <class 'tuple'>\n"
     ]
    }
   ],
   "source": [
    "t1 = ('rishav',)\n",
    "print(t1,type(t1))"
   ]
  },
  {
   "cell_type": "code",
   "execution_count": 368,
   "id": "88489c29",
   "metadata": {},
   "outputs": [
    {
     "data": {
      "text/plain": [
       "1"
      ]
     },
     "execution_count": 368,
     "metadata": {},
     "output_type": "execute_result"
    }
   ],
   "source": [
    "t = (1,2,3,4,5,34,4,5,5,6,67,66,7,8)\n",
    "t.count(1)"
   ]
  },
  {
   "cell_type": "code",
   "execution_count": 369,
   "id": "1e9b1994",
   "metadata": {},
   "outputs": [
    {
     "data": {
      "text/plain": [
       "0"
      ]
     },
     "execution_count": 369,
     "metadata": {},
     "output_type": "execute_result"
    }
   ],
   "source": [
    "t.count(69)"
   ]
  },
  {
   "cell_type": "code",
   "execution_count": 370,
   "id": "a1d71352",
   "metadata": {},
   "outputs": [
    {
     "data": {
      "text/plain": [
       "3"
      ]
     },
     "execution_count": 370,
     "metadata": {},
     "output_type": "execute_result"
    }
   ],
   "source": [
    "t.count(5)"
   ]
  },
  {
   "cell_type": "code",
   "execution_count": 371,
   "id": "86f03802",
   "metadata": {},
   "outputs": [
    {
     "data": {
      "text/plain": [
       "4"
      ]
     },
     "execution_count": 371,
     "metadata": {},
     "output_type": "execute_result"
    }
   ],
   "source": [
    "t.index(5)"
   ]
  },
  {
   "cell_type": "code",
   "execution_count": 372,
   "id": "2c882d69",
   "metadata": {},
   "outputs": [
    {
     "name": "stdout",
     "output_type": "stream",
     "text": [
      "True\n"
     ]
    }
   ],
   "source": [
    "print(1 in t)"
   ]
  },
  {
   "cell_type": "code",
   "execution_count": null,
   "id": "9c13740d",
   "metadata": {},
   "outputs": [],
   "source": [
    "print(69 in t)"
   ]
  },
  {
   "cell_type": "code",
   "execution_count": 374,
   "id": "ca666411",
   "metadata": {},
   "outputs": [
    {
     "data": {
      "text/plain": [
       "1"
      ]
     },
     "execution_count": 374,
     "metadata": {},
     "output_type": "execute_result"
    }
   ],
   "source": [
    "min(t)"
   ]
  },
  {
   "cell_type": "code",
   "execution_count": 375,
   "id": "b6b5fcb5",
   "metadata": {},
   "outputs": [
    {
     "data": {
      "text/plain": [
       "67"
      ]
     },
     "execution_count": 375,
     "metadata": {},
     "output_type": "execute_result"
    }
   ],
   "source": [
    "max(t)"
   ]
  },
  {
   "cell_type": "code",
   "execution_count": 376,
   "id": "e5b45126",
   "metadata": {},
   "outputs": [
    {
     "name": "stdout",
     "output_type": "stream",
     "text": [
      "[1, 2, 3, 4, 4, 5, 5, 5, 6, 7, 8, 34, 66, 67]\n"
     ]
    }
   ],
   "source": [
    "sum(t)\n",
    "t=sorted(t)\n",
    "print(t)"
   ]
  },
  {
   "cell_type": "markdown",
   "id": "61d1d62d",
   "metadata": {},
   "source": [
    "# SETS\n"
   ]
  },
  {
   "cell_type": "code",
   "execution_count": null,
   "id": "a9e28ee5",
   "metadata": {},
   "outputs": [],
   "source": [
    "# unordered collection of items , we can have unique elements only , mutable"
   ]
  },
  {
   "cell_type": "code",
   "execution_count": 377,
   "id": "e1ebaa65",
   "metadata": {},
   "outputs": [
    {
     "name": "stdout",
     "output_type": "stream",
     "text": [
      "{1, 2, 3, 4} <class 'set'>\n"
     ]
    }
   ],
   "source": [
    "s = {1,2,3,4}\n",
    "print(s,type(s))"
   ]
  },
  {
   "cell_type": "code",
   "execution_count": 380,
   "id": "ca3c6564",
   "metadata": {},
   "outputs": [
    {
     "name": "stdout",
     "output_type": "stream",
     "text": [
      "set()\n"
     ]
    }
   ],
   "source": [
    "s1 = set()\n",
    "print(s1)"
   ]
  },
  {
   "cell_type": "code",
   "execution_count": 383,
   "id": "e23bf017",
   "metadata": {},
   "outputs": [],
   "source": [
    "s1.add(2)"
   ]
  },
  {
   "cell_type": "code",
   "execution_count": 384,
   "id": "3f053904",
   "metadata": {},
   "outputs": [
    {
     "name": "stdout",
     "output_type": "stream",
     "text": [
      "{2}\n"
     ]
    }
   ],
   "source": [
    "print(s1)"
   ]
  },
  {
   "cell_type": "code",
   "execution_count": 385,
   "id": "0504d4f9",
   "metadata": {},
   "outputs": [
    {
     "ename": "TypeError",
     "evalue": "'set' object is not subscriptable",
     "output_type": "error",
     "traceback": [
      "\u001b[1;31m---------------------------------------------------------------------------\u001b[0m",
      "\u001b[1;31mTypeError\u001b[0m                                 Traceback (most recent call last)",
      "Cell \u001b[1;32mIn[385], line 1\u001b[0m\n\u001b[1;32m----> 1\u001b[0m s1[\u001b[38;5;241m0\u001b[39m]\n",
      "\u001b[1;31mTypeError\u001b[0m: 'set' object is not subscriptable"
     ]
    }
   ],
   "source": [
    "s1[0] # can't access"
   ]
  },
  {
   "cell_type": "code",
   "execution_count": 386,
   "id": "77abf834",
   "metadata": {},
   "outputs": [],
   "source": [
    "s.update([5,3,3,9,8])"
   ]
  },
  {
   "cell_type": "code",
   "execution_count": 387,
   "id": "fab5b7f6",
   "metadata": {},
   "outputs": [
    {
     "data": {
      "text/plain": [
       "{1, 2, 3, 4, 5, 8, 9}"
      ]
     },
     "execution_count": 387,
     "metadata": {},
     "output_type": "execute_result"
    }
   ],
   "source": [
    "s"
   ]
  },
  {
   "cell_type": "code",
   "execution_count": 388,
   "id": "02998f73",
   "metadata": {},
   "outputs": [],
   "source": [
    "s.discard(8)"
   ]
  },
  {
   "cell_type": "code",
   "execution_count": 390,
   "id": "65e6361b",
   "metadata": {},
   "outputs": [
    {
     "name": "stdout",
     "output_type": "stream",
     "text": [
      "{1, 2, 3, 4, 5, 9}\n"
     ]
    }
   ],
   "source": [
    "print(s)"
   ]
  },
  {
   "cell_type": "code",
   "execution_count": 391,
   "id": "4cf8d012",
   "metadata": {},
   "outputs": [
    {
     "name": "stdout",
     "output_type": "stream",
     "text": [
      "{1, 3, 4, 5, 9}\n"
     ]
    }
   ],
   "source": [
    "s.remove(2)\n",
    "print(s)"
   ]
  },
  {
   "cell_type": "code",
   "execution_count": 392,
   "id": "16a5d1f9",
   "metadata": {},
   "outputs": [
    {
     "data": {
      "text/plain": [
       "1"
      ]
     },
     "execution_count": 392,
     "metadata": {},
     "output_type": "execute_result"
    }
   ],
   "source": [
    "s.pop() #remove random elements"
   ]
  },
  {
   "cell_type": "code",
   "execution_count": 393,
   "id": "e7dd971f",
   "metadata": {},
   "outputs": [
    {
     "name": "stdout",
     "output_type": "stream",
     "text": [
      "{3, 4, 5, 9}\n"
     ]
    }
   ],
   "source": [
    "print(s)"
   ]
  },
  {
   "cell_type": "code",
   "execution_count": 394,
   "id": "cd3821a0",
   "metadata": {},
   "outputs": [],
   "source": [
    "s.clear()"
   ]
  },
  {
   "cell_type": "code",
   "execution_count": 395,
   "id": "e4742eea",
   "metadata": {},
   "outputs": [
    {
     "name": "stdout",
     "output_type": "stream",
     "text": [
      "set()\n"
     ]
    }
   ],
   "source": [
    "print(s)"
   ]
  },
  {
   "cell_type": "markdown",
   "id": "f17ba69b",
   "metadata": {},
   "source": [
    "# Operation Set\n"
   ]
  },
  {
   "cell_type": "code",
   "execution_count": 398,
   "id": "c1d0dba3",
   "metadata": {},
   "outputs": [
    {
     "name": "stdout",
     "output_type": "stream",
     "text": [
      "{1, 2, 3, 4, 5, 6, 7, 8}\n",
      "{1, 2, 3, 4, 5, 6, 7, 8}\n"
     ]
    }
   ],
   "source": [
    "set1={1,2,3,4,5,6}\n",
    "set2={2,3,5,6,7,8}\n",
    "print(set1|set2) # union\n",
    "print(set1.union(set2)) #union\n",
    "\n"
   ]
  },
  {
   "cell_type": "code",
   "execution_count": 397,
   "id": "33b91c0a",
   "metadata": {},
   "outputs": [
    {
     "name": "stdout",
     "output_type": "stream",
     "text": [
      "{2, 3, 5, 6}\n"
     ]
    }
   ],
   "source": [
    "print(set1&set2) #intersection\n"
   ]
  },
  {
   "cell_type": "code",
   "execution_count": 399,
   "id": "f31523c6",
   "metadata": {},
   "outputs": [
    {
     "name": "stdout",
     "output_type": "stream",
     "text": [
      "{1, 4}\n"
     ]
    }
   ],
   "source": [
    "print(set1-set2) #difference\n"
   ]
  },
  {
   "cell_type": "code",
   "execution_count": 400,
   "id": "36075015",
   "metadata": {},
   "outputs": [
    {
     "name": "stdout",
     "output_type": "stream",
     "text": [
      "{1, 4, 7, 8}\n"
     ]
    }
   ],
   "source": [
    "print(set1^set2) # X-OR operator\n"
   ]
  },
  {
   "cell_type": "code",
   "execution_count": 401,
   "id": "d73d6a02",
   "metadata": {},
   "outputs": [
    {
     "data": {
      "text/plain": [
       "False"
      ]
     },
     "execution_count": 401,
     "metadata": {},
     "output_type": "execute_result"
    }
   ],
   "source": [
    "set1.issubset(set2)"
   ]
  },
  {
   "cell_type": "code",
   "execution_count": 402,
   "id": "d75a2f24",
   "metadata": {},
   "outputs": [],
   "source": [
    "a={1,2,3}\n",
    "b={1,2}"
   ]
  },
  {
   "cell_type": "code",
   "execution_count": 405,
   "id": "82ca9b22",
   "metadata": {},
   "outputs": [
    {
     "data": {
      "text/plain": [
       "True"
      ]
     },
     "execution_count": 405,
     "metadata": {},
     "output_type": "execute_result"
    }
   ],
   "source": [
    "b.issubset(a)"
   ]
  },
  {
   "cell_type": "code",
   "execution_count": 404,
   "id": "2d2fc5c1",
   "metadata": {},
   "outputs": [
    {
     "data": {
      "text/plain": [
       "False"
      ]
     },
     "execution_count": 404,
     "metadata": {},
     "output_type": "execute_result"
    }
   ],
   "source": [
    "a.issubset(b)"
   ]
  },
  {
   "cell_type": "markdown",
   "id": "b5ab55e5",
   "metadata": {},
   "source": [
    "# Dictionaries\n"
   ]
  },
  {
   "cell_type": "code",
   "execution_count": 409,
   "id": "d079ab16",
   "metadata": {},
   "outputs": [
    {
     "name": "stdout",
     "output_type": "stream",
     "text": [
      "{'name': 'rishav', 'age': 21} <class 'dict'>\n"
     ]
    }
   ],
   "source": [
    "dictionary = {\"name\":\"rishav\",\"age\":21}\n",
    "print(dictionary,type(dictionary))"
   ]
  },
  {
   "cell_type": "code",
   "execution_count": 418,
   "id": "0b473812",
   "metadata": {},
   "outputs": [
    {
     "name": "stdout",
     "output_type": "stream",
     "text": [
      "<class 'set'> <class 'set'>\n",
      "{} <class 'dict'>\n"
     ]
    }
   ],
   "source": [
    "set1 = {1,2,3} #for set need at least 1 element\n",
    "dictionary = {} #you can in dictionary an empty set\n",
    "print(set,type(set1))\n",
    "print(dictionary,type(dictionary))"
   ]
  },
  {
   "cell_type": "code",
   "execution_count": 420,
   "id": "e84eccf0",
   "metadata": {},
   "outputs": [
    {
     "name": "stdout",
     "output_type": "stream",
     "text": [
      "None\n"
     ]
    }
   ],
   "source": [
    "# dictionary['key']\n",
    "print(dictionary.get('name'))"
   ]
  },
  {
   "cell_type": "code",
   "execution_count": 421,
   "id": "288a82ff",
   "metadata": {},
   "outputs": [],
   "source": [
    "dictionary['city'] = 'delhi'"
   ]
  },
  {
   "cell_type": "code",
   "execution_count": 422,
   "id": "c46926de",
   "metadata": {},
   "outputs": [
    {
     "data": {
      "text/plain": [
       "{'city': 'delhi'}"
      ]
     },
     "execution_count": 422,
     "metadata": {},
     "output_type": "execute_result"
    }
   ],
   "source": [
    "dictionary"
   ]
  },
  {
   "cell_type": "code",
   "execution_count": 423,
   "id": "7ff18ddc",
   "metadata": {},
   "outputs": [
    {
     "data": {
      "text/plain": [
       "('city', 'delhi')"
      ]
     },
     "execution_count": 423,
     "metadata": {},
     "output_type": "execute_result"
    }
   ],
   "source": [
    "dictionary.popitem()"
   ]
  },
  {
   "cell_type": "code",
   "execution_count": 427,
   "id": "f76ea049",
   "metadata": {},
   "outputs": [],
   "source": [
    "dictionary.clear()"
   ]
  },
  {
   "cell_type": "code",
   "execution_count": 433,
   "id": "5b8b5873",
   "metadata": {},
   "outputs": [],
   "source": [
    "dictionary = {\"name\":\"rishav\",\"age\":21}"
   ]
  },
  {
   "cell_type": "code",
   "execution_count": 434,
   "id": "567a61e3",
   "metadata": {},
   "outputs": [
    {
     "data": {
      "text/plain": [
       "dict_keys(['name', 'age'])"
      ]
     },
     "execution_count": 434,
     "metadata": {},
     "output_type": "execute_result"
    }
   ],
   "source": [
    "dictionary.keys()"
   ]
  },
  {
   "cell_type": "code",
   "execution_count": 435,
   "id": "f2e13c08",
   "metadata": {},
   "outputs": [
    {
     "data": {
      "text/plain": [
       "dict_values(['rishav', 21])"
      ]
     },
     "execution_count": 435,
     "metadata": {},
     "output_type": "execute_result"
    }
   ],
   "source": [
    "dictionary.values()"
   ]
  },
  {
   "cell_type": "code",
   "execution_count": 436,
   "id": "74f4e864",
   "metadata": {},
   "outputs": [
    {
     "data": {
      "text/plain": [
       "dict_items([('name', 'rishav'), ('age', 21)])"
      ]
     },
     "execution_count": 436,
     "metadata": {},
     "output_type": "execute_result"
    }
   ],
   "source": [
    "dictionary.items()"
   ]
  },
  {
   "cell_type": "code",
   "execution_count": 437,
   "id": "fb7956a3",
   "metadata": {},
   "outputs": [
    {
     "name": "stdout",
     "output_type": "stream",
     "text": [
      "key is name and value is rishav\n",
      "key is age and value is 21\n"
     ]
    }
   ],
   "source": [
    "for k,v in dictionary.items():\n",
    "    print(\"key is {} and value is {}\".format(k,v))"
   ]
  },
  {
   "cell_type": "markdown",
   "id": "999c9ad0",
   "metadata": {},
   "source": [
    "# Advance Concepts Python"
   ]
  },
  {
   "cell_type": "markdown",
   "id": "0638060c",
   "metadata": {},
   "source": [
    "# Classes and Objects (OOPS)\n",
    "# Exception Handling"
   ]
  },
  {
   "cell_type": "code",
   "execution_count": 439,
   "id": "925afbff",
   "metadata": {},
   "outputs": [
    {
     "name": "stdout",
     "output_type": "stream",
     "text": [
      "<__main__.Student object at 0x000002B1586F8990>\n"
     ]
    }
   ],
   "source": [
    "class Student:\n",
    "     pass\n",
    "p = Student()\n",
    "print(p)"
   ]
  },
  {
   "cell_type": "code",
   "execution_count": 440,
   "id": "30f8ff4b",
   "metadata": {},
   "outputs": [],
   "source": [
    "#self keyword"
   ]
  },
  {
   "cell_type": "code",
   "execution_count": 441,
   "id": "6c3e06dc",
   "metadata": {},
   "outputs": [
    {
     "name": "stdout",
     "output_type": "stream",
     "text": [
      "Hello\n",
      "None\n"
     ]
    }
   ],
   "source": [
    "class Student:\n",
    "     def sayHello(self):\n",
    "         print(\"Hello\")\n",
    "p = Student()\n",
    "print(p.sayHello())"
   ]
  },
  {
   "cell_type": "code",
   "execution_count": 442,
   "id": "c4d6571d",
   "metadata": {},
   "outputs": [
    {
     "ename": "TypeError",
     "evalue": "Student.sayHello() takes 0 positional arguments but 1 was given",
     "output_type": "error",
     "traceback": [
      "\u001b[1;31m---------------------------------------------------------------------------\u001b[0m",
      "\u001b[1;31mTypeError\u001b[0m                                 Traceback (most recent call last)",
      "Cell \u001b[1;32mIn[442], line 5\u001b[0m\n\u001b[0;32m      3\u001b[0m          \u001b[38;5;28mprint\u001b[39m(\u001b[38;5;124m\"\u001b[39m\u001b[38;5;124mHello\u001b[39m\u001b[38;5;124m\"\u001b[39m)\n\u001b[0;32m      4\u001b[0m p \u001b[38;5;241m=\u001b[39m Student()\n\u001b[1;32m----> 5\u001b[0m \u001b[38;5;28mprint\u001b[39m(p\u001b[38;5;241m.\u001b[39msayHello())\n",
      "\u001b[1;31mTypeError\u001b[0m: Student.sayHello() takes 0 positional arguments but 1 was given"
     ]
    }
   ],
   "source": [
    "class Student:\n",
    "     def sayHello():\n",
    "         print(\"Hello\")\n",
    "p = Student()\n",
    "print(p.sayHello())"
   ]
  },
  {
   "cell_type": "code",
   "execution_count": 444,
   "id": "4b2c2a05",
   "metadata": {},
   "outputs": [],
   "source": [
    "class Student:\n",
    "    def sayHello(self):\n",
    "        print(\"hello\")"
   ]
  },
  {
   "cell_type": "code",
   "execution_count": 447,
   "id": "80bfdae1",
   "metadata": {},
   "outputs": [
    {
     "name": "stdout",
     "output_type": "stream",
     "text": [
      "hello\n",
      "None\n",
      "<class 'NoneType'>\n"
     ]
    }
   ],
   "source": [
    "p=Student().sayHello()\n",
    "print(p)\n",
    "print(type(p))"
   ]
  },
  {
   "cell_type": "code",
   "execution_count": 449,
   "id": "13dae0e1",
   "metadata": {},
   "outputs": [],
   "source": [
    "class Student:\n",
    "    def __init__(self,name) :\n",
    "        self.name = name\n",
    "    def sayHello(self):\n",
    "        print(\"hello\",self.name)"
   ]
  },
  {
   "cell_type": "code",
   "execution_count": 450,
   "id": "4966e2b0",
   "metadata": {},
   "outputs": [
    {
     "name": "stdout",
     "output_type": "stream",
     "text": [
      "hello Rishav\n"
     ]
    }
   ],
   "source": [
    "Student(\"Rishav\").sayHello()"
   ]
  },
  {
   "cell_type": "code",
   "execution_count": 454,
   "id": "c4a55052",
   "metadata": {},
   "outputs": [],
   "source": [
    "class Person():\n",
    "    \n",
    "    #class variable\n",
    "    number = 0\n",
    "    \n",
    "    def __inti__(self,name):\n",
    "        \n",
    "        #Initialise some data\n",
    "        self.name=name\n",
    "        print(\"Initialising {}\".format(self.name))\n",
    "        \n",
    "        number+=1\n",
    "    def sayHello(self):\n",
    "        #greet\n",
    "\n",
    "        print(\"Hello {}\".format(self.name))\n",
    "    def how_many(self):\n",
    "        print(\"number of persons {} \",format(self.number))"
   ]
  },
  {
   "cell_type": "code",
   "execution_count": 457,
   "id": "b921ccbb",
   "metadata": {},
   "outputs": [
    {
     "ename": "TypeError",
     "evalue": "Person() takes no arguments",
     "output_type": "error",
     "traceback": [
      "\u001b[1;31m---------------------------------------------------------------------------\u001b[0m",
      "\u001b[1;31mTypeError\u001b[0m                                 Traceback (most recent call last)",
      "Cell \u001b[1;32mIn[457], line 1\u001b[0m\n\u001b[1;32m----> 1\u001b[0m person1\u001b[38;5;241m=\u001b[39mPerson(\u001b[38;5;124m\"\u001b[39m\u001b[38;5;124mrishav\u001b[39m\u001b[38;5;124m\"\u001b[39m)\n\u001b[0;32m      2\u001b[0m person1\u001b[38;5;241m.\u001b[39msayHello()\n\u001b[0;32m      3\u001b[0m Person\u001b[38;5;241m.\u001b[39mhow_many()\n",
      "\u001b[1;31mTypeError\u001b[0m: Person() takes no arguments"
     ]
    }
   ],
   "source": [
    "person1=Person(\"rishav\")\n",
    "person1.sayHello()\n",
    "Person.how_many()\n",
    "\n",
    "person2=Person(\"jha\")\n",
    "person2.sayHello()\n",
    "Person.how_many()"
   ]
  },
  {
   "cell_type": "code",
   "execution_count": null,
   "id": "39303231",
   "metadata": {},
   "outputs": [],
   "source": []
  },
  {
   "cell_type": "code",
   "execution_count": null,
   "id": "8846572d",
   "metadata": {},
   "outputs": [],
   "source": []
  },
  {
   "cell_type": "code",
   "execution_count": null,
   "id": "192912c8",
   "metadata": {},
   "outputs": [],
   "source": []
  },
  {
   "cell_type": "code",
   "execution_count": null,
   "id": "320a549e",
   "metadata": {},
   "outputs": [],
   "source": []
  },
  {
   "cell_type": "code",
   "execution_count": null,
   "id": "ec41e6fa",
   "metadata": {},
   "outputs": [],
   "source": []
  }
 ],
 "metadata": {
  "kernelspec": {
   "display_name": "Python 3 (ipykernel)",
   "language": "python",
   "name": "python3"
  },
  "language_info": {
   "codemirror_mode": {
    "name": "ipython",
    "version": 3
   },
   "file_extension": ".py",
   "mimetype": "text/x-python",
   "name": "python",
   "nbconvert_exporter": "python",
   "pygments_lexer": "ipython3",
   "version": "3.11.5"
  }
 },
 "nbformat": 4,
 "nbformat_minor": 5
}
